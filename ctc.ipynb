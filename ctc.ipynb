{
 "cells": [
  {
   "cell_type": "markdown",
   "metadata": {},
   "source": [
    "## Import statements"
   ]
  },
  {
   "cell_type": "code",
   "execution_count": 1,
   "metadata": {},
   "outputs": [],
   "source": [
    "import numpy as np\n",
    "import pandas as pd\n",
    "import matplotlib as mpl\n",
    "import matplotlib.pyplot as plt\n",
    "import networkx as nx\n",
    "from itertools import product\n",
    "from functools import lru_cache\n",
    "\n",
    "%matplotlib inline"
   ]
  },
  {
   "cell_type": "markdown",
   "metadata": {},
   "source": [
    "## Variables setup"
   ]
  },
  {
   "cell_type": "markdown",
   "metadata": {},
   "source": [
    "The next variable will be the text we need to predict"
   ]
  },
  {
   "cell_type": "code",
   "execution_count": 2,
   "metadata": {},
   "outputs": [],
   "source": [
    "l = 'apple'"
   ]
  },
  {
   "cell_type": "markdown",
   "metadata": {},
   "source": [
    "Next we define the maximum number of output (timesteps) of our model"
   ]
  },
  {
   "cell_type": "code",
   "execution_count": 3,
   "metadata": {},
   "outputs": [],
   "source": [
    "T = 8"
   ]
  },
  {
   "cell_type": "markdown",
   "metadata": {},
   "source": [
    "The next variable indicate the number of unique labels we are using (our alphabet)"
   ]
  },
  {
   "cell_type": "code",
   "execution_count": 4,
   "metadata": {},
   "outputs": [],
   "source": [
    "L = ''.join(sorted(list(frozenset(l))))"
   ]
  },
  {
   "cell_type": "markdown",
   "metadata": {},
   "source": [
    "We add to our alphabet a extra character (blank space)"
   ]
  },
  {
   "cell_type": "code",
   "execution_count": 5,
   "metadata": {},
   "outputs": [],
   "source": [
    "L_ext = L + ' '"
   ]
  },
  {
   "cell_type": "markdown",
   "metadata": {},
   "source": [
    "Now add blank spaces between each pair of characters in the text. Also at the beginning & at the end"
   ]
  },
  {
   "cell_type": "code",
   "execution_count": 6,
   "metadata": {},
   "outputs": [],
   "source": [
    "l_ext = ' ' + ' '.join(l) + ' '"
   ]
  },
  {
   "cell_type": "code",
   "execution_count": 7,
   "metadata": {},
   "outputs": [
    {
     "data": {
      "text/plain": [
       "(' a p p l e ', 'aelp ')"
      ]
     },
     "execution_count": 7,
     "metadata": {},
     "output_type": "execute_result"
    }
   ],
   "source": [
    "l_ext, L_ext"
   ]
  },
  {
   "cell_type": "markdown",
   "metadata": {},
   "source": [
    "The next variable (y) is a representation of a possible output of the model.<br/>\n",
    "It is a matrix of size Txn where T is the maximum number of timesteps and n is the number of\n",
    "characters we are using (including blank space)"
   ]
  },
  {
   "cell_type": "markdown",
   "metadata": {},
   "source": [
    "Each vector y[k, :] is the output of a softmax layer. The sum of all the elements is 1. Each item y[k, j] indicates the probability of watching the label j at the timestep k"
   ]
  },
  {
   "cell_type": "code",
   "execution_count": 8,
   "metadata": {},
   "outputs": [],
   "source": [
    "y = np.array([\n",
    "    [1, 0, 0, 0, 0],\n",
    "    [1, 0, 0, 0, 0],\n",
    "    [0, 0, 0, 0, 1],\n",
    "    [0, 0, 0, 1, 0],\n",
    "    [0, 0, 0, 0, 1],\n",
    "    [0, 0, 0, 1, 0],\n",
    "    [0, 0, 1, 0, 0],\n",
    "    [0, 1, 0, 0, 0]\n",
    "], dtype=np.float64)"
   ]
  },
  {
   "cell_type": "code",
   "execution_count": 9,
   "metadata": {},
   "outputs": [],
   "source": [
    "#y = np.random.random([T, len(L_ext)])"
   ]
  },
  {
   "cell_type": "code",
   "execution_count": 10,
   "metadata": {},
   "outputs": [],
   "source": [
    "y = np.divide(y, y.sum(axis=1).reshape([-1, 1]))"
   ]
  },
  {
   "cell_type": "code",
   "execution_count": 11,
   "metadata": {},
   "outputs": [
    {
     "data": {
      "text/plain": [
       "(8, 5)"
      ]
     },
     "execution_count": 11,
     "metadata": {},
     "output_type": "execute_result"
    }
   ],
   "source": [
    "y.shape"
   ]
  },
  {
   "cell_type": "markdown",
   "metadata": {},
   "source": [
    "This is the text our model predicts (without CTC decodification)"
   ]
  },
  {
   "cell_type": "code",
   "execution_count": 13,
   "metadata": {},
   "outputs": [
    {
     "data": {
      "text/plain": [
       "'Predicted text: \"aa p ple\"'"
      ]
     },
     "execution_count": 13,
     "metadata": {},
     "output_type": "execute_result"
    }
   ],
   "source": [
    "'Predicted text: \"' + ''.join([L_ext[k] for k in np.argmax(y, axis=1)]) + '\"'"
   ]
  },
  {
   "cell_type": "markdown",
   "metadata": {},
   "source": [
    "## Calculate CTC forward variables"
   ]
  },
  {
   "cell_type": "markdown",
   "metadata": {},
   "source": [
    "Alpha and beta values can be used to compute the loss function and its derivative so that we can apply optimization via gradient descent "
   ]
  },
  {
   "cell_type": "markdown",
   "metadata": {},
   "source": [
    "Thos variables are calculated using a dynamic programming algorithm"
   ]
  },
  {
   "cell_type": "code",
   "execution_count": 14,
   "metadata": {},
   "outputs": [],
   "source": [
    "def alpha(t, s):\n",
    "    if t < 0 or s < 0:\n",
    "        return 0\n",
    "    if t == 0:\n",
    "        if s == 0:\n",
    "            return y[0, L_ext.index(' ')]\n",
    "        if s == 1:\n",
    "            return y[0, L_ext.index(l[0])]\n",
    "        return 0\n",
    "    \n",
    "    if 2 * s + 1 < t or 2 * t + 1 < s:\n",
    "        return 0\n",
    "    \n",
    "    def _alpha():\n",
    "        return alpha(t-1, s) + alpha(t-1, s-1)\n",
    "    \n",
    "    p = y[t, L_ext.index(l_ext[s])]\n",
    "    if l_ext[s] == ' ' or (s > 1 and l_ext[s] == l_ext[s-2]):\n",
    "        return _alpha() * p\n",
    "    \n",
    "    return (_alpha() + alpha(t-1, s-2)) * p\n",
    "\n",
    "\n",
    "A = np.zeros([T, len(l_ext)]).astype(np.float64)\n",
    "for t, s in product(range(0, T), range(0, len(l_ext))):\n",
    "    A[t, s] = alpha(t, s)"
   ]
  },
  {
   "cell_type": "markdown",
   "metadata": {},
   "source": [
    "Finally rescale the alpha values"
   ]
  },
  {
   "cell_type": "code",
   "execution_count": 15,
   "metadata": {},
   "outputs": [],
   "source": [
    "C = A.sum(axis=1)\n",
    "A = np.divide(A, C.reshape([-1, 1]))"
   ]
  },
  {
   "cell_type": "markdown",
   "metadata": {},
   "source": [
    "The next cell shows the alpha values where the x-axis is the timestep and the y-axis is the character"
   ]
  },
  {
   "cell_type": "code",
   "execution_count": 16,
   "metadata": {},
   "outputs": [
    {
     "data": {
      "text/html": [
       "<div>\n",
       "<style scoped>\n",
       "    .dataframe tbody tr th:only-of-type {\n",
       "        vertical-align: middle;\n",
       "    }\n",
       "\n",
       "    .dataframe tbody tr th {\n",
       "        vertical-align: top;\n",
       "    }\n",
       "\n",
       "    .dataframe thead th {\n",
       "        text-align: right;\n",
       "    }\n",
       "</style>\n",
       "<table border=\"1\" class=\"dataframe\">\n",
       "  <thead>\n",
       "    <tr style=\"text-align: right;\">\n",
       "      <th></th>\n",
       "      <th>0</th>\n",
       "      <th>1</th>\n",
       "      <th>2</th>\n",
       "      <th>3</th>\n",
       "      <th>4</th>\n",
       "      <th>5</th>\n",
       "      <th>6</th>\n",
       "      <th>7</th>\n",
       "    </tr>\n",
       "    <tr>\n",
       "      <th>label</th>\n",
       "      <th></th>\n",
       "      <th></th>\n",
       "      <th></th>\n",
       "      <th></th>\n",
       "      <th></th>\n",
       "      <th></th>\n",
       "      <th></th>\n",
       "      <th></th>\n",
       "    </tr>\n",
       "  </thead>\n",
       "  <tbody>\n",
       "    <tr>\n",
       "      <th>--</th>\n",
       "      <td>0.0</td>\n",
       "      <td>0.0</td>\n",
       "      <td>0.0</td>\n",
       "      <td>0.0</td>\n",
       "      <td>0.0</td>\n",
       "      <td>0.0</td>\n",
       "      <td>0.0</td>\n",
       "      <td>0.0</td>\n",
       "    </tr>\n",
       "    <tr>\n",
       "      <th>a</th>\n",
       "      <td>1.0</td>\n",
       "      <td>1.0</td>\n",
       "      <td>0.0</td>\n",
       "      <td>0.0</td>\n",
       "      <td>0.0</td>\n",
       "      <td>0.0</td>\n",
       "      <td>0.0</td>\n",
       "      <td>0.0</td>\n",
       "    </tr>\n",
       "    <tr>\n",
       "      <th>--</th>\n",
       "      <td>0.0</td>\n",
       "      <td>0.0</td>\n",
       "      <td>1.0</td>\n",
       "      <td>0.0</td>\n",
       "      <td>0.0</td>\n",
       "      <td>0.0</td>\n",
       "      <td>0.0</td>\n",
       "      <td>0.0</td>\n",
       "    </tr>\n",
       "    <tr>\n",
       "      <th>p</th>\n",
       "      <td>0.0</td>\n",
       "      <td>0.0</td>\n",
       "      <td>0.0</td>\n",
       "      <td>1.0</td>\n",
       "      <td>0.0</td>\n",
       "      <td>0.0</td>\n",
       "      <td>0.0</td>\n",
       "      <td>0.0</td>\n",
       "    </tr>\n",
       "    <tr>\n",
       "      <th>--</th>\n",
       "      <td>0.0</td>\n",
       "      <td>0.0</td>\n",
       "      <td>0.0</td>\n",
       "      <td>0.0</td>\n",
       "      <td>1.0</td>\n",
       "      <td>0.0</td>\n",
       "      <td>0.0</td>\n",
       "      <td>0.0</td>\n",
       "    </tr>\n",
       "    <tr>\n",
       "      <th>p</th>\n",
       "      <td>0.0</td>\n",
       "      <td>0.0</td>\n",
       "      <td>0.0</td>\n",
       "      <td>0.0</td>\n",
       "      <td>0.0</td>\n",
       "      <td>1.0</td>\n",
       "      <td>0.0</td>\n",
       "      <td>0.0</td>\n",
       "    </tr>\n",
       "    <tr>\n",
       "      <th>--</th>\n",
       "      <td>0.0</td>\n",
       "      <td>0.0</td>\n",
       "      <td>0.0</td>\n",
       "      <td>0.0</td>\n",
       "      <td>0.0</td>\n",
       "      <td>0.0</td>\n",
       "      <td>0.0</td>\n",
       "      <td>0.0</td>\n",
       "    </tr>\n",
       "    <tr>\n",
       "      <th>l</th>\n",
       "      <td>0.0</td>\n",
       "      <td>0.0</td>\n",
       "      <td>0.0</td>\n",
       "      <td>0.0</td>\n",
       "      <td>0.0</td>\n",
       "      <td>0.0</td>\n",
       "      <td>1.0</td>\n",
       "      <td>0.0</td>\n",
       "    </tr>\n",
       "    <tr>\n",
       "      <th>--</th>\n",
       "      <td>0.0</td>\n",
       "      <td>0.0</td>\n",
       "      <td>0.0</td>\n",
       "      <td>0.0</td>\n",
       "      <td>0.0</td>\n",
       "      <td>0.0</td>\n",
       "      <td>0.0</td>\n",
       "      <td>0.0</td>\n",
       "    </tr>\n",
       "    <tr>\n",
       "      <th>e</th>\n",
       "      <td>0.0</td>\n",
       "      <td>0.0</td>\n",
       "      <td>0.0</td>\n",
       "      <td>0.0</td>\n",
       "      <td>0.0</td>\n",
       "      <td>0.0</td>\n",
       "      <td>0.0</td>\n",
       "      <td>1.0</td>\n",
       "    </tr>\n",
       "    <tr>\n",
       "      <th>--</th>\n",
       "      <td>0.0</td>\n",
       "      <td>0.0</td>\n",
       "      <td>0.0</td>\n",
       "      <td>0.0</td>\n",
       "      <td>0.0</td>\n",
       "      <td>0.0</td>\n",
       "      <td>0.0</td>\n",
       "      <td>0.0</td>\n",
       "    </tr>\n",
       "  </tbody>\n",
       "</table>\n",
       "</div>"
      ],
      "text/plain": [
       "         0    1    2    3    4    5    6    7\n",
       "label                                        \n",
       "--     0.0  0.0  0.0  0.0  0.0  0.0  0.0  0.0\n",
       "a      1.0  1.0  0.0  0.0  0.0  0.0  0.0  0.0\n",
       "--     0.0  0.0  1.0  0.0  0.0  0.0  0.0  0.0\n",
       "p      0.0  0.0  0.0  1.0  0.0  0.0  0.0  0.0\n",
       "--     0.0  0.0  0.0  0.0  1.0  0.0  0.0  0.0\n",
       "p      0.0  0.0  0.0  0.0  0.0  1.0  0.0  0.0\n",
       "--     0.0  0.0  0.0  0.0  0.0  0.0  0.0  0.0\n",
       "l      0.0  0.0  0.0  0.0  0.0  0.0  1.0  0.0\n",
       "--     0.0  0.0  0.0  0.0  0.0  0.0  0.0  0.0\n",
       "e      0.0  0.0  0.0  0.0  0.0  0.0  0.0  1.0\n",
       "--     0.0  0.0  0.0  0.0  0.0  0.0  0.0  0.0"
      ]
     },
     "execution_count": 16,
     "metadata": {},
     "output_type": "execute_result"
    }
   ],
   "source": [
    "df = pd.DataFrame(np.round(A, decimals=3).T)\n",
    "df['label'] = [label if label != ' ' else '--' for label in l_ext]\n",
    "df.set_index('label', inplace=True)\n",
    "df"
   ]
  },
  {
   "cell_type": "markdown",
   "metadata": {},
   "source": [
    "The next graph shows all possible paths that are equivalent to our labels sequence"
   ]
  },
  {
   "cell_type": "code",
   "execution_count": 17,
   "metadata": {},
   "outputs": [
    {
     "data": {
      "text/plain": [
       "True"
      ]
     },
     "execution_count": 17,
     "metadata": {},
     "output_type": "execute_result"
    }
   ],
   "source": [
    "G = nx.DiGraph()\n",
    "\n",
    "node_pos = {}\n",
    "node_alpha = []\n",
    "node_colors = []\n",
    "\n",
    "for t, s in product(range(0, T), range(0, len(l_ext))):\n",
    "    G.add_node((t, s))\n",
    "    node_pos[(t, s)] = (t, len(l_ext) - s)\n",
    "\n",
    "for t, s in G.nodes:\n",
    "    if 2 * s + 1 < t or 2 * t + 1 < s:\n",
    "        node_colors.append('black')\n",
    "        node_alpha.append(0.1)\n",
    "    else:\n",
    "        node_colors.append('black')\n",
    "        node_alpha.append(0.35 + A[t, s] * 0.65)\n",
    "\n",
    "def g_alpha(t, s):\n",
    "    if t == 0 and s in (0, 1):\n",
    "        return True\n",
    "    if (t < 0) or (s < 0) or (2 * s + 1 < t) or (2 * t + 1 < s):\n",
    "        return False\n",
    "    \n",
    "    def _g_alpha():\n",
    "        a, b = g_alpha(t-1, s), g_alpha(t-1, s-1)\n",
    "        if a:\n",
    "            G.add_edge((t-1, s), (t, s))\n",
    "        if b:\n",
    "            G.add_edge((t-1, s-1), (t, s))\n",
    "        return a or b\n",
    "            \n",
    "    if l_ext[s] == ' ' or (s > 1 and l_ext[s] == l_ext[s-2]):\n",
    "        return _g_alpha()\n",
    "    \n",
    "    ab, c = _g_alpha(), g_alpha(t-1, s-2)\n",
    "    if c:\n",
    "        G.add_edge((t-1, s-2), (t, s))\n",
    "    return ab or c\n",
    "            \n",
    "g_alpha(T-1, len(l_ext)-1)\n",
    "g_alpha(T-1, len(l_ext)-2)"
   ]
  },
  {
   "cell_type": "code",
   "execution_count": 18,
   "metadata": {},
   "outputs": [
    {
     "data": {
      "image/png": "[encoded data removed]",
      "text/plain": [
       "<Figure size 1008x576 with 1 Axes>"
      ]
     },
     "metadata": {
      "needs_background": "light"
     },
     "output_type": "display_data"
    }
   ],
   "source": [
    "\n",
    "plt.figure(figsize=(14, 8))\n",
    "nx.draw_networkx_nodes(G, pos=node_pos, node_color=node_colors, alpha=node_alpha)\n",
    "nx.draw_networkx_edges(G, pos=node_pos);\n",
    "plt.xlabel('Time step')\n",
    "plt.ylabel('Label')\n",
    "plt.yticks(range(1, len(l_ext)+1), labels=reversed(l_ext.replace(' ', '*')));"
   ]
  },
  {
   "cell_type": "markdown",
   "metadata": {},
   "source": [
    "Now we can calculate the loss in our classification"
   ]
  },
  {
   "cell_type": "code",
   "execution_count": 19,
   "metadata": {},
   "outputs": [
    {
     "data": {
      "text/plain": [
       "0.0"
      ]
     },
     "execution_count": 19,
     "metadata": {},
     "output_type": "execute_result"
    }
   ],
   "source": [
    "np.log(C).sum()"
   ]
  },
  {
   "cell_type": "markdown",
   "metadata": {},
   "source": [
    "## Tensorflow CTC loss function"
   ]
  },
  {
   "cell_type": "markdown",
   "metadata": {},
   "source": [
    "Now we compute the CTC loss function with the tensorflow library"
   ]
  },
  {
   "cell_type": "code",
   "execution_count": 20,
   "metadata": {},
   "outputs": [
    {
     "name": "stderr",
     "output_type": "stream",
     "text": [
      "Using TensorFlow backend.\n"
     ]
    }
   ],
   "source": [
    "import keras.backend as K\n",
    "import tensorflow as tf"
   ]
  },
  {
   "cell_type": "markdown",
   "metadata": {},
   "source": [
    "We need to build an array with numeric labels corresponding to the characters of the text we want to predict"
   ]
  },
  {
   "cell_type": "code",
   "execution_count": 265,
   "metadata": {},
   "outputs": [],
   "source": [
    "labels = np.array([L.index(ch) for ch in l], np.int32).reshape([1, -1])"
   ]
  },
  {
   "cell_type": "code",
   "execution_count": 266,
   "metadata": {},
   "outputs": [
    {
     "data": {
      "text/plain": [
       "array([[0, 3, 3, 2, 1]], dtype=int32)"
      ]
     },
     "execution_count": 266,
     "metadata": {},
     "output_type": "execute_result"
    }
   ],
   "source": [
    "labels"
   ]
  },
  {
   "cell_type": "markdown",
   "metadata": {},
   "source": [
    "We want to make multiple predictions over the same target"
   ]
  },
  {
   "cell_type": "code",
   "execution_count": 267,
   "metadata": {},
   "outputs": [
    {
     "data": {
      "text/plain": [
       "array([[0, 3, 3, 2, 1],\n",
       "       [0, 3, 3, 2, 1],\n",
       "       [0, 3, 3, 2, 1],\n",
       "       [0, 3, 3, 2, 1],\n",
       "       [0, 3, 3, 2, 1]], dtype=int32)"
      ]
     },
     "execution_count": 267,
     "metadata": {},
     "output_type": "execute_result"
    }
   ],
   "source": [
    "labels = labels.repeat(5, axis=0)\n",
    "labels"
   ]
  },
  {
   "cell_type": "markdown",
   "metadata": {},
   "source": [
    "Then variable y will emulate different outputs of a LSTM layer"
   ]
  },
  {
   "cell_type": "code",
   "execution_count": 314,
   "metadata": {},
   "outputs": [],
   "source": [
    "outputs = [\n",
    "    '-ap-ple-',\n",
    "    '-apple--',\n",
    "    'apple---',\n",
    "    'a-p-p-e-',\n",
    "    '-p-ple--'\n",
    "]"
   ]
  },
  {
   "cell_type": "code",
   "execution_count": 309,
   "metadata": {},
   "outputs": [],
   "source": [
    "outputs = np.array([[L_ext.index(ch) for ch in output] for output in [output.replace('-', ' ') for output in outputs]])\n",
    "\n",
    "y = np.zeros([labels.shape[0], output_labels.shape[1], len(L_ext)]).astype(np.float32)\n",
    "\n",
    "for i, j in product(range(0, labels.shape[0]), range(outputs.shape[1])):\n",
    "    y[i, j, outputs[i, j]] = 1\n",
    "\n",
    "y *= 4"
   ]
  },
  {
   "cell_type": "code",
   "execution_count": 315,
   "metadata": {},
   "outputs": [
    {
     "data": {
      "text/plain": [
       "(5, 8, 5)"
      ]
     },
     "execution_count": 315,
     "metadata": {},
     "output_type": "execute_result"
    }
   ],
   "source": [
    "y.shape"
   ]
  },
  {
   "cell_type": "code",
   "execution_count": 316,
   "metadata": {},
   "outputs": [
    {
     "data": {
      "text/plain": [
       "array([[0., 0., 0., 0., 4.],\n",
       "       [4., 0., 0., 0., 0.],\n",
       "       [0., 0., 0., 4., 0.],\n",
       "       [0., 0., 0., 0., 4.],\n",
       "       [0., 0., 0., 4., 0.],\n",
       "       [0., 0., 4., 0., 0.],\n",
       "       [0., 4., 0., 0., 0.],\n",
       "       [0., 0., 0., 0., 4.]], dtype=float32)"
      ]
     },
     "execution_count": 316,
     "metadata": {},
     "output_type": "execute_result"
    }
   ],
   "source": [
    "y[0]"
   ]
  },
  {
   "cell_type": "code",
   "execution_count": 310,
   "metadata": {},
   "outputs": [],
   "source": [
    "sequence_length = np.array([y.shape[1]], dtype=np.int32).repeat(y.shape[0])"
   ]
  },
  {
   "cell_type": "code",
   "execution_count": 311,
   "metadata": {},
   "outputs": [
    {
     "data": {
      "text/plain": [
       "array([8, 8, 8, 8, 8], dtype=int32)"
      ]
     },
     "execution_count": 311,
     "metadata": {},
     "output_type": "execute_result"
    }
   ],
   "source": [
    "sequence_length"
   ]
  },
  {
   "cell_type": "markdown",
   "metadata": {},
   "source": [
    "Finally we compute the CTC loss"
   ]
  },
  {
   "cell_type": "code",
   "execution_count": 313,
   "metadata": {},
   "outputs": [],
   "source": [
    "\n",
    "losses = K.get_value(tf.nn.ctc_loss(\n",
    "    tf.contrib.layers.dense_to_sparse(labels, eos_token=-1),\n",
    "    y,\n",
    "    sequence_length,\n",
    "    preprocess_collapse_repeated=False,\n",
    "    ctc_merge_repeated=False,\n",
    "    time_major=False\n",
    "))"
   ]
  },
  {
   "cell_type": "code",
   "execution_count": 325,
   "metadata": {},
   "outputs": [],
   "source": [
    "df = pd.DataFrame.from_dict({\n",
    "    'True labels': [l] * labels.shape[0],\n",
    "    'Predicted labels': outputs,\n",
    "    'CTC Loss': losses\n",
    "})\n",
    "\n",
    "df.sort_values(by='CTC Loss', inplace=True)"
   ]
  },
  {
   "cell_type": "code",
   "execution_count": 326,
   "metadata": {},
   "outputs": [
    {
     "data": {
      "text/html": [
       "<div>\n",
       "<style scoped>\n",
       "    .dataframe tbody tr th:only-of-type {\n",
       "        vertical-align: middle;\n",
       "    }\n",
       "\n",
       "    .dataframe tbody tr th {\n",
       "        vertical-align: top;\n",
       "    }\n",
       "\n",
       "    .dataframe thead th {\n",
       "        text-align: right;\n",
       "    }\n",
       "</style>\n",
       "<table border=\"1\" class=\"dataframe\">\n",
       "  <thead>\n",
       "    <tr style=\"text-align: right;\">\n",
       "      <th></th>\n",
       "      <th>True labels</th>\n",
       "      <th>Predicted labels</th>\n",
       "      <th>CTC Loss</th>\n",
       "    </tr>\n",
       "  </thead>\n",
       "  <tbody>\n",
       "    <tr>\n",
       "      <th>0</th>\n",
       "      <td>apple</td>\n",
       "      <td>-ap-ple-</td>\n",
       "      <td>0.564253</td>\n",
       "    </tr>\n",
       "    <tr>\n",
       "      <th>1</th>\n",
       "      <td>apple</td>\n",
       "      <td>-apple--</td>\n",
       "      <td>0.564594</td>\n",
       "    </tr>\n",
       "    <tr>\n",
       "      <th>2</th>\n",
       "      <td>apple</td>\n",
       "      <td>apple---</td>\n",
       "      <td>0.564600</td>\n",
       "    </tr>\n",
       "    <tr>\n",
       "      <th>3</th>\n",
       "      <td>apple</td>\n",
       "      <td>a-p-p-e-</td>\n",
       "      <td>4.509822</td>\n",
       "    </tr>\n",
       "    <tr>\n",
       "      <th>4</th>\n",
       "      <td>apple</td>\n",
       "      <td>-p-ple--</td>\n",
       "      <td>4.546114</td>\n",
       "    </tr>\n",
       "  </tbody>\n",
       "</table>\n",
       "</div>"
      ],
      "text/plain": [
       "  True labels Predicted labels  CTC Loss\n",
       "0       apple         -ap-ple-  0.564253\n",
       "1       apple         -apple--  0.564594\n",
       "2       apple         apple---  0.564600\n",
       "3       apple         a-p-p-e-  4.509822\n",
       "4       apple         -p-ple--  4.546114"
      ]
     },
     "execution_count": 326,
     "metadata": {},
     "output_type": "execute_result"
    }
   ],
   "source": [
    "df"
   ]
  },
  {
   "cell_type": "markdown",
   "metadata": {},
   "source": []
  }
 ],
 "metadata": {
  "kernelspec": {
   "display_name": "Python 3",
   "language": "python",
   "name": "python3"
  },
  "language_info": {
   "codemirror_mode": {
    "name": "ipython",
    "version": 3
   },
   "file_extension": ".py",
   "mimetype": "text/x-python",
   "name": "python",
   "nbconvert_exporter": "python",
   "pygments_lexer": "ipython3",
   "version": "3.6.8"
  }
 },
 "nbformat": 4,
 "nbformat_minor": 2
}
